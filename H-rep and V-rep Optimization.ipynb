{
 "cells": [
  {
   "cell_type": "code",
   "execution_count": 17,
   "id": "548b4dc3",
   "metadata": {},
   "outputs": [],
   "source": [
    "using Pkg"
   ]
  },
  {
   "cell_type": "code",
   "execution_count": 18,
   "id": "20440737",
   "metadata": {},
   "outputs": [],
   "source": [
    "using Polyhedra"
   ]
  },
  {
   "cell_type": "code",
   "execution_count": 19,
   "id": "68b00594",
   "metadata": {},
   "outputs": [],
   "source": [
    "using MeshCat"
   ]
  },
  {
   "cell_type": "code",
   "execution_count": 20,
   "id": "440d6245",
   "metadata": {},
   "outputs": [],
   "source": [
    "using JuMP"
   ]
  },
  {
   "cell_type": "code",
   "execution_count": 21,
   "id": "b485cc61",
   "metadata": {},
   "outputs": [],
   "source": [
    "using GLPK"
   ]
  },
  {
   "cell_type": "code",
   "execution_count": null,
   "id": "26961066",
   "metadata": {},
   "outputs": [],
   "source": []
  },
  {
   "cell_type": "code",
   "execution_count": 26,
   "id": "dcc71066",
   "metadata": {},
   "outputs": [
    {
     "data": {
      "text/plain": [
       "ObjectiveIO (generic function with 1 method)"
      ]
     },
     "execution_count": 26,
     "metadata": {},
     "output_type": "execute_result"
    }
   ],
   "source": [
    "function ObjectiveIO()\n",
    "    println(\"Enter the coefficients to a linear objective function. Keep in mind, a function with only 3 variables can be accepted.\")\n",
    "    println(\"For example, if you had the objective function: \")\n",
    "    println(\".75x+.5y+.1z = 1\")\n",
    "    println(\"You would input: \")\n",
    "    println(\".75 .5 .1\")\n",
    "    objective = Matrix{Float64}(undef,0,0)\n",
    "    input = readline(stdin)\n",
    "    r = hcat(parse.(Float64, split(input))...)\n",
    "    objective = size(objective,1)>0 ? vcat(objective,r) : r\n",
    "\n",
    "    objective = vec(objective)\n",
    "    display(objective)\n",
    "\n",
    "    println(\"Enter what the objective function equals\")\n",
    "    println(\"For example, if you had the objective function: \")\n",
    "    println(\".75x+.5y+.1z = 1\")\n",
    "    println(\"You would input: \")\n",
    "    println(\"1\")\n",
    "    equals = readline(stdin)\n",
    "    equals = parse.(Float64, equals)\n",
    "    println(equals)\n",
    "    return objective, equals\n",
    "end"
   ]
  },
  {
   "cell_type": "code",
   "execution_count": 31,
   "id": "5b48d410",
   "metadata": {},
   "outputs": [
    {
     "data": {
      "text/plain": [
       "PolyhedraIOHRep (generic function with 1 method)"
      ]
     },
     "execution_count": 31,
     "metadata": {},
     "output_type": "execute_result"
    }
   ],
   "source": [
    "function PolyhedraIOHRep()\n",
    "    println(\"Enter the values for the coefficient matrix A of the system of linear inequalities. Keep in mind, an inequality with only 3 variables can be accepted.\")\n",
    "    println(\"For example if your system looks like this: \")\n",
    "    println(\"-x ≤ 0\\n-y ≤ 0\\n-z ≤ 0\\n35x+.5y+.5z ≤ .5\\n60x+300y+10 ≤ 15\\n30x+20y+10z ≤ 4\")\n",
    "    println(\"You would input: \")\n",
    "    println(\"-1 0 0\\n0 -1 0\\n0 0 -1\\n35 .5 .5\\n 60 300 10\\n30 20 10\")\n",
    "    println(\"For the coefficient matrix. When you are done entering elements, press \\\"ENTER\\\" on the blank readline\")\n",
    "    println(\"KEEP IN MIND: The entries must be in the form of Ax ≤ b\")\n",
    "    A = Matrix{Float64}(undef,0,0)\n",
    "\n",
    "    while true\n",
    "        s = readline(stdin)\n",
    "        if length(s) <1\n",
    "            break\n",
    "        end\n",
    "\n",
    "        r = hcat(parse.(Float64, split(s))...)\n",
    "        A = size(A,1)>0 ? vcat(A,r) : r\n",
    "    end\n",
    "    display(A)\n",
    "\n",
    "\n",
    "    println(\"Enter the values for vector b of the system of linear inequalities\")\n",
    "    println(\"For example if your system looks like this: \")\n",
    "    println(\"-x ≤ 0\\n-y ≤ 0\\n-z ≤ 0\\n35x+.5y+.5z ≤ .5\\n60x+300y+10 ≤ 15\\n30x+20y+10z ≤ 4\")\n",
    "    println(\"You would input: \")\n",
    "    println(\"0 0 0 .5 15 4\")\n",
    "    println(\"For b\")\n",
    "    println(\"KEEP IN MIND: The entries must be in the form of Ax ≤ b\")\n",
    "    b = Matrix{Float64}(undef,0,0)\n",
    "\n",
    "    s = readline(stdin)\n",
    "\n",
    "\n",
    "    r = hcat(parse.(Float64, split(s))...)\n",
    "    b = size(b,1)>0 ? vcat(b,r) : r\n",
    "\n",
    "    b = vec(b)\n",
    "    display(b)\n",
    "   \n",
    "    return A,b\n",
    "end"
   ]
  },
  {
   "cell_type": "code",
   "execution_count": 8,
   "id": "83a1df82",
   "metadata": {},
   "outputs": [
    {
     "data": {
      "text/plain": [
       "VertexIO (generic function with 1 method)"
      ]
     },
     "execution_count": 8,
     "metadata": {},
     "output_type": "execute_result"
    }
   ],
   "source": [
    "function VertexIO()\n",
    "    lib = DefaultLibrary{Float64}(GLPK.Optimizer)\n",
    "    println(\"Enter the verticies for your polyhedron. Keep in mind, a point with only 3 variables can be accepted.\")\n",
    "    println(\"For example, if you had a polyhedron consisting of the points\")\n",
    "    println(\"(1,0,0)\\n(0,1,0)\\n(0,0,1)\\n(-1,0,0)\\n(0,-1,0)\\n(0,0,-1)\")\n",
    "    println(\"You would input: \")\n",
    "    println(\"1 0 0\\n0 1 0\\n 0 0 1\\n -1 0 0\\n 0 -1 0\\n 0 0 -1\")\n",
    "    println(\"When you are done entering verticies, press \\\"ENTER\\\" on the blank readline\")\n",
    "    \n",
    "    verticies = Matrix{Float64}(undef,0,0)\n",
    "\n",
    "    while true\n",
    "        s = readline(stdin)\n",
    "        if length(s) < 1\n",
    "            break\n",
    "        end\n",
    "            r = hcat(parse.(Float64, split(s))...)\n",
    "            verticies = size(verticies,1)>0 ? vcat(verticies,r) : r\n",
    "    end\n",
    "    vrepPoly = polyhedron(vrep(verticies),lib)\n",
    "    return vrepPoly\n",
    "end"
   ]
  },
  {
   "cell_type": "code",
   "execution_count": 9,
   "id": "7a78a753",
   "metadata": {},
   "outputs": [
    {
     "data": {
      "text/plain": [
       "MakePolyhedra (generic function with 1 method)"
      ]
     },
     "execution_count": 9,
     "metadata": {},
     "output_type": "execute_result"
    }
   ],
   "source": [
    "function MakePolyhedra(A, b)\n",
    "    hrepPoly = HalfSpace(A[1,:],b[1])\n",
    "\n",
    "    for i in 2:length(b)\n",
    "        hrepPoly = hrepPoly ∩ HalfSpace(A[i,:],b[i])\n",
    "    end\n",
    "    display(hrepPoly)\n",
    "    \n",
    "    return hrepPoly\n",
    "end"
   ]
  },
  {
   "cell_type": "code",
   "execution_count": 10,
   "id": "5a621866",
   "metadata": {},
   "outputs": [
    {
     "data": {
      "text/plain": [
       "convertToVRep (generic function with 1 method)"
      ]
     },
     "execution_count": 10,
     "metadata": {},
     "output_type": "execute_result"
    }
   ],
   "source": [
    "function convertToVRep(hrepPoly)\n",
    "    println(\"Your polyhedron in V-representation looks like:\")\n",
    "    polyhedraH = polyhedron(hrepPoly)\n",
    "    VR = vrep(polyhedraH)\n",
    "    display(VR)\n",
    "    return VR\n",
    "end"
   ]
  },
  {
   "cell_type": "code",
   "execution_count": 11,
   "id": "ab8f0d12",
   "metadata": {},
   "outputs": [
    {
     "data": {
      "text/plain": [
       "ConvertToHRep (generic function with 1 method)"
      ]
     },
     "execution_count": 11,
     "metadata": {},
     "output_type": "execute_result"
    }
   ],
   "source": [
    "function ConvertToHRep(vrepPoly)\n",
    "    println(\"Your polyhedron in H-representation looks like:\")\n",
    "    VR = vrep(vrepPoly)\n",
    "    polyhedraV = polyhedron(VR)\n",
    "    HR = hrep(polyhedraV)\n",
    "    display(HR)\n",
    "    return HR\n",
    "end"
   ]
  },
  {
   "cell_type": "code",
   "execution_count": 12,
   "id": "401f581b",
   "metadata": {},
   "outputs": [
    {
     "data": {
      "text/plain": [
       "DisplayPolyhedra (generic function with 1 method)"
      ]
     },
     "execution_count": 12,
     "metadata": {},
     "output_type": "execute_result"
    }
   ],
   "source": [
    "function DisplayPolyhedra(hrepPoly)\n",
    "    \n",
    "    polyhedra = polyhedron(hrepPoly)\n",
    "    polyhedraMesh = Polyhedra.Mesh(polyhedra)\n",
    "    vis = Visualizer()\n",
    "    setobject!(vis,polyhedraMesh)\n",
    "    IJuliaCell(vis)   \n",
    "end"
   ]
  },
  {
   "cell_type": "code",
   "execution_count": 13,
   "id": "a8c5908a",
   "metadata": {},
   "outputs": [
    {
     "data": {
      "text/plain": [
       "OptimizePoly (generic function with 1 method)"
      ]
     },
     "execution_count": 13,
     "metadata": {},
     "output_type": "execute_result"
    }
   ],
   "source": [
    "function OptimizePoly(hrepPoly, objective, equals)\n",
    "    hrepPoly = hrepPoly ∩ HyperPlane(objective,equals)\n",
    "    model = Model()\n",
    "    @variable(model,λ[1:3])\n",
    "    @constraint(model, λ in hrepPoly)\n",
    "    set_optimizer(model, GLPK.Optimizer)\n",
    "    optimize!(model)\n",
    "    optimalValues = value.(λ)\n",
    "    return optimalValues\n",
    "end"
   ]
  },
  {
   "cell_type": "code",
   "execution_count": 14,
   "id": "8540a6bd",
   "metadata": {},
   "outputs": [
    {
     "data": {
      "text/plain": [
       "main (generic function with 1 method)"
      ]
     },
     "execution_count": 14,
     "metadata": {},
     "output_type": "execute_result"
    }
   ],
   "source": [
    "function main()\n",
    "    objective,equals = ObjectiveIO()\n",
    "    \n",
    "    println(\"Please indicate if you would like to represent your polyhedra in either H-representation or V-representation\")\n",
    "    println(\"If you would like to use H-representation type \\\"H\\\"\")\n",
    "    println(\"If you would like to use V-representation type \\\"V\\\"\")\n",
    "    \n",
    "    \n",
    "    HorV = readline(stdin)\n",
    "    \n",
    "    while true\n",
    "        if HorV == \"H\" || HorV == \"V\"\n",
    "            break\n",
    "        else\n",
    "            println(\"Invalid character entered.\")\n",
    "            println(\"If you would like to use H-representation type \\\"H\\\"\")\n",
    "            println(\"If you would like to use V-representation type \\\"V\\\"\")\n",
    "            HorV = readline(stdin)\n",
    "        end\n",
    "    end\n",
    "    \n",
    "    println()\n",
    "    \n",
    "    if HorV == \"H\"\n",
    "        A,b = PolyhedraIOHRep()\n",
    "        halfSpacePoly = MakePolyhedra(A,b)\n",
    "        vrepPoly = convertToVRep(halfSpacePoly)\n",
    "    else\n",
    "        vrepPoly = VertexIO()\n",
    "        halfSpacePoly = ConvertToHRep(vrepPoly)\n",
    "    end\n",
    "    DisplayPolyhedra(halfSpacePoly)\n",
    "    println(\"Optimal values for objective function:\")\n",
    "    OptimizePoly(halfSpacePoly, objective, equals)\n",
    "end"
   ]
  },
  {
   "cell_type": "code",
   "execution_count": 32,
   "id": "19a89d01",
   "metadata": {},
   "outputs": [
    {
     "name": "stdout",
     "output_type": "stream",
     "text": [
      "Enter the coefficients to a linear objective function\n",
      "For example, if you had the objective function: \n",
      ".75x+.5y+.1z = 1\n",
      "You would input: \n",
      ".75 .5 .1\n",
      "stdin> .75 .5 .1\n"
     ]
    },
    {
     "data": {
      "text/plain": [
       "3-element Vector{Float64}:\n",
       " 0.75\n",
       " 0.5\n",
       " 0.1"
      ]
     },
     "metadata": {},
     "output_type": "display_data"
    },
    {
     "name": "stdout",
     "output_type": "stream",
     "text": [
      "Enter what the objective function equals\n",
      "For example, if you had the objective function: \n",
      ".75x+.5y+.1z = 1\n",
      "You would input: \n",
      "1\n",
      "stdin> 1\n",
      "1.0\n",
      "Please indicate if you would like to represent your polyhedra in either H-representation or V-representation\n",
      "If you would like to use H-representation type \"H\"\n",
      "If you would like to use V-representation type \"V\"\n",
      "stdin> H\n",
      "\n",
      "Enter the values for the coefficient matrix A of the system of linear inequalities\n",
      "For example if your system looks like this: \n",
      "-x ≤ 0\n",
      "-y ≤ 0\n",
      "-z ≤ 0\n",
      "35x+.5y+.5z ≤ .5\n",
      "60x+300y+10 ≤ 15\n",
      "30x+20y+10z ≤ 4\n",
      "You would input: \n",
      "-1 0 0\n",
      "0 -1 0\n",
      "0 0 -1\n",
      "35 .5 .5\n",
      " 60 300 10\n",
      "30 20 10\n",
      "For the coefficient matrix. When you are done entering elements, press \"ENTER\" on the blank readline\n",
      "KEEP IN MIND: The entries must be in the form of Ax ≤ b\n",
      "stdin> -1 0 0\n",
      "stdin> 0 -1 0\n",
      "stdin> 0 0 -1\n",
      "stdin> 35 .5 .5\n",
      "stdin> 60 300 10\n",
      "stdin> 30 20 10\n",
      "stdin> \n"
     ]
    },
    {
     "data": {
      "text/plain": [
       "6×3 Matrix{Float64}:\n",
       " -1.0    0.0   0.0\n",
       "  0.0   -1.0   0.0\n",
       "  0.0    0.0  -1.0\n",
       " 35.0    0.5   0.5\n",
       " 60.0  300.0  10.0\n",
       " 30.0   20.0  10.0"
      ]
     },
     "metadata": {},
     "output_type": "display_data"
    },
    {
     "name": "stdout",
     "output_type": "stream",
     "text": [
      "Enter the values for vector b of the system of linear inequalities\n",
      "For example if your system looks like this: \n",
      "-x ≤ 0\n",
      "-y ≤ 0\n",
      "-z ≤ 0\n",
      "35x+.5y+.5z ≤ .5\n",
      "60x+300y+10 ≤ 15\n",
      "30x+20y+10z ≤ 4\n",
      "You would input: \n",
      "0 0 0 .5 15 4\n",
      "For b\n",
      "KEEP IN MIND: The entries must be in the form of Ax ≤ b\n",
      "stdin> 0 0 0 .5 15 4\n"
     ]
    },
    {
     "data": {
      "text/plain": [
       "6-element Vector{Float64}:\n",
       "  0.0\n",
       "  0.0\n",
       "  0.0\n",
       "  0.5\n",
       " 15.0\n",
       "  4.0"
      ]
     },
     "metadata": {},
     "output_type": "display_data"
    },
    {
     "data": {
      "text/plain": [
       "H-representation Polyhedra.Intersection{Float64, Vector{Float64}, Int64}:\n",
       "6-element iterator of HalfSpace{Float64, Vector{Float64}}:\n",
       " HalfSpace([-1.0, 0.0, 0.0], 0.0)\n",
       " HalfSpace([0.0, -1.0, 0.0], 0.0)\n",
       " HalfSpace([0.0, 0.0, -1.0], 0.0)\n",
       " HalfSpace([35.0, 0.5, 0.5], 0.5)\n",
       " HalfSpace([60.0, 300.0, 10.0], 15.0)\n",
       " HalfSpace([30.0, 20.0, 10.0], 4.0)"
      ]
     },
     "metadata": {},
     "output_type": "display_data"
    },
    {
     "name": "stdout",
     "output_type": "stream",
     "text": [
      "Your polyhedra in V-representation looks like:\n"
     ]
    },
    {
     "data": {
      "text/plain": [
       "V-representation Polyhedra.Hull{Float64, Vector{Float64}, Int64}:\n",
       "8-element iterator of Vector{Float64}:\n",
       " [0.009526343799893547, 0.03826503459286855, 0.2948908994145823]\n",
       " [0.0, 0.039285714285714285, 0.32142857142857145]\n",
       " [0.008955223880596998, 0.0, 0.37313432835820903]\n",
       " [0.01361031518624641, 0.04727793696275072, 0.0]\n",
       " [0.0, 0.05, 0.0]\n",
       " [0.014285714285714275, 0.0, 0.0]\n",
       " [0.0, 0.0, 0.4]\n",
       " [0.0, 0.0, 0.0]"
      ]
     },
     "metadata": {},
     "output_type": "display_data"
    },
    {
     "name": "stdout",
     "output_type": "stream",
     "text": [
      "Optimal values for objective function:\n"
     ]
    },
    {
     "name": "stderr",
     "output_type": "stream",
     "text": [
      "\u001b[36m\u001b[1m┌ \u001b[22m\u001b[39m\u001b[36m\u001b[1mInfo: \u001b[22m\u001b[39mMeshCat server started. You can open the visualizer by visiting the following URL in your browser:\n",
      "\u001b[36m\u001b[1m└ \u001b[22m\u001b[39mhttp://127.0.0.1:8703\n"
     ]
    },
    {
     "data": {
      "text/plain": [
       "3-element Vector{Float64}:\n",
       " 0.00952634379989356\n",
       " 0.03826503459286854\n",
       " 0.29489089941458224"
      ]
     },
     "execution_count": 32,
     "metadata": {},
     "output_type": "execute_result"
    }
   ],
   "source": [
    "main()"
   ]
  },
  {
   "cell_type": "code",
   "execution_count": null,
   "id": "3f04d271",
   "metadata": {},
   "outputs": [],
   "source": []
  },
  {
   "cell_type": "markdown",
   "id": "ac833023",
   "metadata": {},
   "source": [
    "# "
   ]
  }
 ],
 "metadata": {
  "kernelspec": {
   "display_name": "Julia 1.8.5",
   "language": "julia",
   "name": "julia-1.8"
  },
  "language_info": {
   "file_extension": ".jl",
   "mimetype": "application/julia",
   "name": "julia",
   "version": "1.8.5"
  }
 },
 "nbformat": 4,
 "nbformat_minor": 5
}
