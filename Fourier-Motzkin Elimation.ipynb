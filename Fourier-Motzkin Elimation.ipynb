{
 "cells": [
  {
   "cell_type": "code",
   "execution_count": 28,
   "id": "5dc53d2e",
   "metadata": {},
   "outputs": [],
   "source": [
    "using LinearAlgebra"
   ]
  },
  {
   "cell_type": "code",
   "execution_count": 29,
   "id": "e5f354e2",
   "metadata": {},
   "outputs": [
    {
     "data": {
      "text/plain": [
       "2"
      ]
     },
     "execution_count": 29,
     "metadata": {},
     "output_type": "execute_result"
    }
   ],
   "source": [
    "num_equations = 2\n",
    "num_unknowns = 2"
   ]
  },
  {
   "cell_type": "code",
   "execution_count": 30,
   "id": "ed7438a5",
   "metadata": {},
   "outputs": [
    {
     "data": {
      "text/plain": [
       "2×2 Matrix{Float64}:\n",
       " 0.356659  0.88258\n",
       " 0.608567  0.85262"
      ]
     },
     "execution_count": 30,
     "metadata": {},
     "output_type": "execute_result"
    }
   ],
   "source": [
    "A = rand(num_equations, num_unknowns)"
   ]
  },
  {
   "cell_type": "code",
   "execution_count": 31,
   "id": "6b4e0137",
   "metadata": {},
   "outputs": [
    {
     "data": {
      "text/plain": [
       "2-element Vector{Float64}:\n",
       " 0.6223774196076156\n",
       " 0.40438579374480343"
      ]
     },
     "execution_count": 31,
     "metadata": {},
     "output_type": "execute_result"
    }
   ],
   "source": [
    "b = rand(num_equations)"
   ]
  },
  {
   "cell_type": "code",
   "execution_count": 32,
   "id": "00b33e0b",
   "metadata": {},
   "outputs": [
    {
     "data": {
      "text/plain": [
       ":<="
      ]
     },
     "execution_count": 32,
     "metadata": {},
     "output_type": "execute_result"
    }
   ],
   "source": [
    "sign = :<="
   ]
  },
  {
   "cell_type": "code",
   "execution_count": 33,
   "id": "a8e54c9d",
   "metadata": {},
   "outputs": [
    {
     "name": "stdout",
     "output_type": "stream",
     "text": [
      "Original Inequalities:\n",
      "\n",
      "0.3566591842194946x1 + 0.8825797145787391x2 <= 0.6223774196076156\n",
      "\n",
      "0.6085674664928984x1 + 0.8526202545582702x2 <= 0.40438579374480343\n",
      "\n"
     ]
    }
   ],
   "source": [
    "println(\"Original Inequalities:\")\n",
    "println()\n",
    "for i = 1:size(A, 1)\n",
    "    for j = 1:size(A, 2)\n",
    "        print(A[i, j], \"x\", j)\n",
    "        if(j != size(A, 1))\n",
    "            print(\" + \")\n",
    "        end\n",
    "    end\n",
    "    println(\" \", sense, \" \", b[i])\n",
    "    println()\n",
    "end"
   ]
  },
  {
   "cell_type": "markdown",
   "id": "96259fac",
   "metadata": {},
   "source": [
    "For the form of Ax <= b, and Ax >= b (ONLY)"
   ]
  },
  {
   "cell_type": "markdown",
   "id": "173fe877",
   "metadata": {},
   "source": [
    "Implementation assumes A has full row rank"
   ]
  },
  {
   "cell_type": "markdown",
   "id": "72407b7c",
   "metadata": {},
   "source": [
    "Matrix A must have at least as many rows as columns (cannot be a underdetermined system)"
   ]
  },
  {
   "cell_type": "code",
   "execution_count": 34,
   "id": "715d8686",
   "metadata": {},
   "outputs": [
    {
     "data": {
      "text/plain": [
       "fourier_motzkin_elimination (generic function with 1 method)"
      ]
     },
     "execution_count": 34,
     "metadata": {},
     "output_type": "execute_result"
    }
   ],
   "source": [
    "function fourier_motzkin_elimination(A::Matrix{Float64}, b::Vector{Float64}, sign::Symbol)\n",
    "    m, n = size(A)\n",
    "    #Checking to make sure input matrix A size is correct\n",
    "    if m < n\n",
    "        throw(ArgumentError(\"Input matrix A must have at least as many rows as columns.\"))\n",
    "    end\n",
    "    \n",
    "    #Used for swapping between <= and >=\n",
    "    if sign == :<=\n",
    "        A = -A\n",
    "        b = -b\n",
    "    elseif sign != :>=\n",
    "        throw(ArgumentError(\"Invalid sign argument.\"))\n",
    "    end\n",
    "        \n",
    "    for i = 1:n\n",
    "        for j = i+1:n\n",
    "            if A[i,i] == 0 && A[j,i] != 0\n",
    "                # Swap rows to ensure A[i,i] != 0\n",
    "                A[i,:], A[j,:] = A[j,:], A[i,:]\n",
    "                b[i], b[j] = b[j], b[i]\n",
    "            end\n",
    "            if A[j,i] != 0\n",
    "                # Eliminate variable xi from the jth inequality\n",
    "                alpha = A[i,i] / A[j,i]\n",
    "                A[j,:] = alpha * A[j,:] - A[i,:]\n",
    "                b[j] = alpha * b[j] - b[i]\n",
    "            end\n",
    "        end\n",
    "    end\n",
    "            \n",
    "    if sign == :<=\n",
    "        A = -A\n",
    "        b = -b\n",
    "    end\n",
    "            \n",
    "    # Remove rows where all coefficients are zero\n",
    "    nonzero_rows = [i for i in 1:size(A,1) if any(A[i,:] .!= 0)]\n",
    "    A = A[nonzero_rows,:]\n",
    "    b = b[nonzero_rows]\n",
    "    \n",
    "    #A are the coefficients\n",
    "    #b are the constants\n",
    "    return A, b\n",
    "end\n"
   ]
  },
  {
   "cell_type": "code",
   "execution_count": 35,
   "id": "db5a8af8",
   "metadata": {},
   "outputs": [
    {
     "data": {
      "text/plain": [
       "([0.3566591842194946 0.8825797145787391; -0.0 -0.38289009726772383], [0.6223774196076156, -0.385381662772071])"
      ]
     },
     "execution_count": 35,
     "metadata": {},
     "output_type": "execute_result"
    }
   ],
   "source": [
    "coeffs, cons = fourier_motzkin_elimination(A, b, sense)"
   ]
  },
  {
   "cell_type": "code",
   "execution_count": 36,
   "id": "9b550e0a",
   "metadata": {},
   "outputs": [
    {
     "name": "stdout",
     "output_type": "stream",
     "text": [
      "Updated inequalities:\n",
      "\n",
      "0.3566591842194946x1 + 0.8825797145787391x2 <= 0.6223774196076156\n",
      "\n",
      "-0.0x1 + -0.38289009726772383x2 <= -0.385381662772071\n",
      "\n"
     ]
    }
   ],
   "source": [
    "println(\"Updated inequalities:\")\n",
    "println()\n",
    "for i = 1:size(coeffs, 1)\n",
    "    for j = 1:size(coeffs, 2)\n",
    "        print(coeffs[i, j], \"x\", j)\n",
    "        if(j != size(coeffs, 1))\n",
    "            print(\" + \")\n",
    "        end\n",
    "    end\n",
    "    println(\" \", sign, \" \", cons[i])\n",
    "    println()\n",
    "end"
   ]
  },
  {
   "cell_type": "code",
   "execution_count": null,
   "id": "23ec1d90",
   "metadata": {},
   "outputs": [],
   "source": []
  }
 ],
 "metadata": {
  "kernelspec": {
   "display_name": "Julia 1.8.5",
   "language": "julia",
   "name": "julia-1.8"
  },
  "language_info": {
   "file_extension": ".jl",
   "mimetype": "application/julia",
   "name": "julia",
   "version": "1.8.5"
  }
 },
 "nbformat": 4,
 "nbformat_minor": 5
}
