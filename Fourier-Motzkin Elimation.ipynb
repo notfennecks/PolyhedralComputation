{
 "cells": [
  {
   "cell_type": "code",
   "execution_count": 17,
   "id": "5dc53d2e",
   "metadata": {},
   "outputs": [],
   "source": [
    "using LinearAlgebra\n",
    "using Base"
   ]
  },
  {
   "cell_type": "code",
   "execution_count": 8,
   "id": "ed7438a5",
   "metadata": {},
   "outputs": [
    {
     "data": {
      "text/plain": [
       "3×3 Matrix{Float64}:\n",
       " 0.771909  0.693813  0.557481\n",
       " 0.862245  0.305889  0.251974\n",
       " 0.694945  0.743723  0.373231"
      ]
     },
     "execution_count": 8,
     "metadata": {},
     "output_type": "execute_result"
    }
   ],
   "source": [
    "A = rand(3, 3)"
   ]
  },
  {
   "cell_type": "code",
   "execution_count": 9,
   "id": "6b4e0137",
   "metadata": {},
   "outputs": [
    {
     "data": {
      "text/plain": [
       "3-element Vector{Float64}:\n",
       " 0.8678934084720591\n",
       " 0.11196687144423367\n",
       " 0.6251864440515684"
      ]
     },
     "execution_count": 9,
     "metadata": {},
     "output_type": "execute_result"
    }
   ],
   "source": [
    "b = rand(3)"
   ]
  },
  {
   "cell_type": "code",
   "execution_count": 30,
   "id": "3107fefe",
   "metadata": {},
   "outputs": [
    {
     "data": {
      "text/plain": [
       ":<="
      ]
     },
     "execution_count": 30,
     "metadata": {},
     "output_type": "execute_result"
    }
   ],
   "source": [
    "sense = :<="
   ]
  },
  {
   "cell_type": "markdown",
   "id": "96259fac",
   "metadata": {},
   "source": [
    "For the form of Ax <= b, and Ax >= b (ONLY)"
   ]
  },
  {
   "cell_type": "markdown",
   "id": "30c1f61d",
   "metadata": {},
   "source": [
    "Implementation assumes A has full row rank"
   ]
  },
  {
   "cell_type": "code",
   "execution_count": 32,
   "id": "715d8686",
   "metadata": {},
   "outputs": [
    {
     "data": {
      "text/plain": [
       "fourier_motzkin_elimination (generic function with 3 methods)"
      ]
     },
     "execution_count": 32,
     "metadata": {},
     "output_type": "execute_result"
    }
   ],
   "source": [
    "function fourier_motzkin_elimination(A::Matrix{Float64}, b::Vector{Float64}, sense::Symbol)\n",
    "    m, n = size(A)\n",
    "    #Checking to make sure input matrix A size is correct\n",
    "    if m < n\n",
    "        throw(ArgumentError(\"Input matrix A must have at least as many rows as columns.\"))\n",
    "    end\n",
    "    \n",
    "    #Used for swapping between <= and >=\n",
    "    if sense == :<=\n",
    "        A = -A\n",
    "        b = -b\n",
    "    elseif sense != :>=\n",
    "        throw(ArgumentError(\"Invalid sense argument.\"))\n",
    "    end\n",
    "        \n",
    "    for i = 1:n\n",
    "        for j = i+1:n\n",
    "            if A[i,i] == 0 && A[j,i] != 0\n",
    "                # Swap rows to ensure A[i,i] != 0\n",
    "                A[i,:], A[j,:] = A[j,:], A[i,:]\n",
    "                b[i], b[j] = b[j], b[i]\n",
    "            end\n",
    "            if A[j,i] != 0\n",
    "                # Eliminate variable x_i from the jth inequality\n",
    "                alpha = A[i,i] / A[j,i]\n",
    "                A[j,:] = alpha * A[j,:] - A[i,:]\n",
    "                b[j] = alpha * b[j] - b[i]\n",
    "            end\n",
    "        end\n",
    "    end\n",
    "            \n",
    "    if sense == :<=\n",
    "        A = -A\n",
    "        b = -b\n",
    "    end\n",
    "            \n",
    "    # Remove rows where all coefficients are zero\n",
    "    nonzero_rows = [i for i in 1:size(A,1) if any(A[i,:] .!= 0)]\n",
    "    A = A[nonzero_rows,:]\n",
    "    b = b[nonzero_rows]\n",
    "    \n",
    "    #A are the coefficients\n",
    "    #b are the constants\n",
    "    return A, b\n",
    "end\n"
   ]
  },
  {
   "cell_type": "code",
   "execution_count": 33,
   "id": "db5a8af8",
   "metadata": {},
   "outputs": [
    {
     "data": {
      "text/plain": [
       "([0.7719091742977146 0.6938128093094919 0.5574806755557287; 0.0 -0.419971499250648 -0.33190562428204107; 0.0 0.0 1.0414247482789284e15], [0.8678934084720591, -0.7676571116766941, 1.7476259688736035e15])"
      ]
     },
     "execution_count": 33,
     "metadata": {},
     "output_type": "execute_result"
    }
   ],
   "source": [
    "coeffs, cons = fourier_motzkin_elimination(A, b, sense)"
   ]
  },
  {
   "cell_type": "code",
   "execution_count": 67,
   "id": "9b550e0a",
   "metadata": {},
   "outputs": [
    {
     "name": "stdout",
     "output_type": "stream",
     "text": [
      "Updated inequalities:\n",
      "0.7719091742977146x1 + 0.6938128093094919x2 + 0.5574806755557287x3 <=\n",
      "0.8678934084720591\n",
      "0.0x1 + -0.419971499250648x2 + -0.33190562428204107x3 <=\n",
      "-0.7676571116766941\n",
      "0.0x1 + 0.0x2 + 1.0414247482789284e15x3 <=\n",
      "1.7476259688736035e15\n"
     ]
    }
   ],
   "source": [
    "println(\"Updated inequalities:\")\n",
    "for i = 1:size(coeffs, 1)\n",
    "    for j = 1:size(coeffs, 2)\n",
    "        print(coeffs[i, j])\n",
    "        print(\"x\")\n",
    "        print(j)\n",
    "        if(j != 3)\n",
    "            print(\" + \")\n",
    "        end\n",
    "    end\n",
    "    print(\" \")\n",
    "    println(sense)\n",
    "    println(cons[i])\n",
    "end"
   ]
  },
  {
   "cell_type": "code",
   "execution_count": null,
   "id": "975f84e9",
   "metadata": {},
   "outputs": [],
   "source": []
  }
 ],
 "metadata": {
  "kernelspec": {
   "display_name": "Julia 1.8.5",
   "language": "julia",
   "name": "julia-1.8"
  },
  "language_info": {
   "file_extension": ".jl",
   "mimetype": "application/julia",
   "name": "julia",
   "version": "1.8.5"
  }
 },
 "nbformat": 4,
 "nbformat_minor": 5
}
